{
 "cells": [
  {
   "cell_type": "code",
   "execution_count": null,
   "metadata": {},
   "outputs": [],
   "source": [
    "import litellm\n",
    "from litellm import completion, completion_cost\n",
    "from textwrap import dedent"
   ]
  },
  {
   "cell_type": "code",
   "execution_count": null,
   "metadata": {},
   "outputs": [],
   "source": [
    "# import os\n",
    "# os.environ['LITELLM_LOG'] = 'DEBUG'"
   ]
  },
  {
   "cell_type": "code",
   "execution_count": null,
   "metadata": {},
   "outputs": [],
   "source": [
    "litellm.enable_cache(type=\"disk\", disk_cache_dir=\"cache\")"
   ]
  },
  {
   "cell_type": "code",
   "execution_count": null,
   "metadata": {},
   "outputs": [],
   "source": [
    "mini = \"gpt-4o-mini\""
   ]
  },
  {
   "cell_type": "code",
   "execution_count": null,
   "metadata": {},
   "outputs": [],
   "source": [
    "response = completion(\n",
    "  model=mini,\n",
    "  messages=[{ \"content\": \"Hello, how are you?\",\"role\": \"user\"}]\n",
    ")"
   ]
  },
  {
   "cell_type": "code",
   "execution_count": null,
   "metadata": {},
   "outputs": [],
   "source": [
    "completion_cost(response)"
   ]
  },
  {
   "cell_type": "code",
   "execution_count": null,
   "metadata": {},
   "outputs": [],
   "source": [
    "import base64"
   ]
  },
  {
   "cell_type": "code",
   "execution_count": null,
   "metadata": {},
   "outputs": [],
   "source": [
    "def encode_image(image_path):\n",
    "  with open(image_path, \"rb\") as image_file:\n",
    "    return base64.b64encode(image_file.read()).decode('utf-8')"
   ]
  },
  {
   "cell_type": "code",
   "execution_count": null,
   "metadata": {},
   "outputs": [],
   "source": [
    "# Path to your image\n",
    "image_path = \"data/dog.jpeg\"\n",
    "\n",
    "# Getting the base64 string\n",
    "base64_image = encode_image(image_path)"
   ]
  },
  {
   "cell_type": "code",
   "execution_count": null,
   "metadata": {},
   "outputs": [],
   "source": [
    "response = completion(\n",
    "    model = mini, \n",
    "    messages=[\n",
    "        {\n",
    "            \"role\": \"user\",\n",
    "            \"content\": [\n",
    "                            {\n",
    "                                \"type\": \"text\",\n",
    "                                \"text\": \"What’s in this image?\"\n",
    "                            },\n",
    "                            {\n",
    "                                \"type\": \"image_url\",\n",
    "                                \"image_url\": {\n",
    "                                \"url\": f\"data:image/jpeg;base64,{base64_image}\",\n",
    "                                \"detail\": \"low\"\n",
    "                                }\n",
    "                            }\n",
    "                        ]\n",
    "        }\n",
    "    ],\n",
    "    temperature=0,\n",
    "    caching=True\n",
    ")"
   ]
  },
  {
   "cell_type": "code",
   "execution_count": null,
   "metadata": {},
   "outputs": [],
   "source": [
    "print(response.choices[0].message.content)"
   ]
  },
  {
   "cell_type": "code",
   "execution_count": null,
   "metadata": {},
   "outputs": [],
   "source": [
    "completion_cost(response)"
   ]
  },
  {
   "cell_type": "markdown",
   "metadata": {},
   "source": [
    "# JSON"
   ]
  },
  {
   "cell_type": "code",
   "execution_count": null,
   "metadata": {},
   "outputs": [],
   "source": [
    "import json\n",
    "\n",
    "def generate_json_schema_from_df(df_format, schema_name):\n",
    "    \"\"\"\n",
    "    Generates a JSON schema from a DataFrame format with a specified schema name,\n",
    "    encouraging the model to output multiple rows as an array of objects within an object.\n",
    "    \n",
    "    Parameters:\n",
    "    df_format (pd.DataFrame): A DataFrame with 'column_name' and 'type' columns.\n",
    "    schema_name (str): The name of the schema.\n",
    "\n",
    "    Returns:\n",
    "    dict: A JSON schema based on the input DataFrame format.\n",
    "    \"\"\"\n",
    "    # Define the schema with an object containing an array of objects\n",
    "    schema = {\n",
    "        \"name\": schema_name,\n",
    "        \"schema\": {\n",
    "            \"type\": \"object\",\n",
    "            \"properties\": {\n",
    "                \"data\": {\n",
    "                    \"type\": \"array\",\n",
    "                    \"items\": {\n",
    "                        \"type\": \"object\",\n",
    "                        \"properties\": {},\n",
    "                        \"required\": [],\n",
    "                        \"additionalProperties\": False\n",
    "                    }\n",
    "                }\n",
    "            },\n",
    "            \"required\": [\"data\"],\n",
    "            \"additionalProperties\": False\n",
    "        },\n",
    "        \"strict\": True\n",
    "    }\n",
    "\n",
    "    for _, row in df_format.iterrows():\n",
    "        column_name = row['column_name']\n",
    "        col_type = row['type']\n",
    "        \n",
    "        # Map the DataFrame type to JSON schema types\n",
    "        if col_type.lower() in ['int', 'integer']:\n",
    "            json_type = \"integer\"\n",
    "        elif col_type.lower() in ['float', 'double', 'number']:\n",
    "            json_type = \"number\"\n",
    "        elif col_type.lower() in ['bool', 'boolean']:\n",
    "            json_type = \"boolean\"\n",
    "        elif col_type.lower() in ['object', 'string', 'text']:\n",
    "            json_type = \"string\"\n",
    "        elif col_type.lower() in ['list', 'array']:\n",
    "            json_type = \"array\"\n",
    "            # Specify the type of items in the array (for this example, assume array of strings)\n",
    "            schema['schema']['properties']['data']['items']['properties'][column_name] = {\n",
    "                \"type\": \"array\",\n",
    "                \"items\": {\"type\": \"string\"}\n",
    "            }\n",
    "            schema['schema']['properties']['data']['items']['required'].append(column_name)\n",
    "            continue  # Skip the default addition below for arrays\n",
    "        else:\n",
    "            json_type = \"string\"  # default fallback type\n",
    "\n",
    "        # Add the column to the schema\n",
    "        schema['schema']['properties']['data']['items']['properties'][column_name] = {\"type\": json_type}\n",
    "        schema['schema']['properties']['data']['items']['required'].append(column_name)\n",
    "\n",
    "    return schema"
   ]
  },
  {
   "cell_type": "code",
   "execution_count": null,
   "metadata": {},
   "outputs": [],
   "source": [
    "# Example usage\n",
    "import pandas as pd\n",
    "\n",
    "# Creating a sample DataFrame format\n",
    "data = {\n",
    "    'column_name': ['id', 'username', 'email', 'age', 'is_active', 'signup_date', 'preferences'],\n",
    "    'type': ['int', 'string', 'string', 'int', 'bool', 'string', 'array']\n",
    "}\n",
    "\n",
    "df_format = pd.DataFrame(data)\n",
    "\n",
    "# Generate the JSON schema\n",
    "schema_name = \"user_data_schema\"\n",
    "json_schema = generate_json_schema_from_df(df_format, schema_name)"
   ]
  },
  {
   "cell_type": "code",
   "execution_count": null,
   "metadata": {},
   "outputs": [],
   "source": [
    "query = \"\"\"| id  | username  | email               | age | is_active | signup_date | preferences            |\n",
    "|-----|-----------|---------------------|-----|-----------|-------------|------------------------|\n",
    "| 1   | user1     | user1@example.com    | 25  | True      | 2024-08-01  | [\"sports\", \"music\"]    |\n",
    "| 2   | user2     | user2@example.com    | 30  | False     | 2024-07-21  |   |\n",
    "| 3   | user3     | NULL                 | 22  | True      | NULL        | [\"gaming\", \"cooking\"]  |\n",
    "| 4   | NULL      | user4@example.com    | 28  | NULL      | 2024-08-05  | NULL                   |\n",
    "| 5   | user5     | NULL                 | NULL| False     | 2024-07-30  | [\"fitness\", \"technology\"] |\n",
    "\"\"\"\n"
   ]
  },
  {
   "cell_type": "code",
   "execution_count": null,
   "metadata": {},
   "outputs": [],
   "source": [
    "response = completion(\n",
    "    model=\"gpt-4o-2024-08-06\",\n",
    "    messages=[\n",
    "        {\n",
    "            \"role\": \"system\", \n",
    "            \"content\": \"convert the markdown dataframe into the provided schema, empty cells or NA cells should be Nulls\"\n",
    "        },\n",
    "        {\n",
    "            \"role\": \"user\", \n",
    "            \"content\": query\n",
    "        }\n",
    "    ],\n",
    "    response_format={\n",
    "        \"type\": \"json_schema\",\n",
    "        \"json_schema\": json_schema\n",
    "    },\n",
    "    temperature=0,\n",
    ")"
   ]
  },
  {
   "cell_type": "code",
   "execution_count": null,
   "metadata": {},
   "outputs": [],
   "source": [
    "base64_image = encode_image(\"data/table.png\")"
   ]
  },
  {
   "cell_type": "code",
   "execution_count": null,
   "metadata": {},
   "outputs": [],
   "source": [
    "image = {\n",
    "    \"type\": \"image_url\",\n",
    "    \"image_url\": {\n",
    "        \"url\": f\"data:image/png;base64,{base64_image}\",\n",
    "        \"detail\": \"low\"\n",
    "    }\n",
    "}"
   ]
  },
  {
   "cell_type": "code",
   "execution_count": null,
   "metadata": {},
   "outputs": [],
   "source": [
    "response = completion(\n",
    "    model=\"gpt-4o-2024-08-06\",\n",
    "    messages=[\n",
    "        {\n",
    "            \"role\": \"system\", \n",
    "            \"content\": \"convert the markdown dataframe into the provided schema, empty cells or NA cells should be Nulls\"\n",
    "        },\n",
    "        {\n",
    "            \"role\": \"user\", \n",
    "            \"content\": [image]\n",
    "        }\n",
    "    ],\n",
    "    response_format={\n",
    "        \"type\": \"json_schema\",\n",
    "        \"json_schema\": json_schema\n",
    "    },\n",
    "    temperature=0,\n",
    "    max_tokens=1024\n",
    ")"
   ]
  },
  {
   "cell_type": "code",
   "execution_count": null,
   "metadata": {},
   "outputs": [],
   "source": [
    "response_content = response.choices[0].message.content"
   ]
  },
  {
   "cell_type": "code",
   "execution_count": null,
   "metadata": {},
   "outputs": [],
   "source": [
    "df = pd.DataFrame(json.loads(response_content)['data'])"
   ]
  },
  {
   "cell_type": "code",
   "execution_count": null,
   "metadata": {},
   "outputs": [],
   "source": [
    "df"
   ]
  },
  {
   "cell_type": "markdown",
   "metadata": {},
   "source": [
    "# Anthropic"
   ]
  },
  {
   "cell_type": "code",
   "execution_count": null,
   "metadata": {},
   "outputs": [],
   "source": [
    "import fitz\n",
    "\n",
    "def pdf_to_base64_pngs(pdf_path, pages=None, quality=75, max_size=(1024, 1024)):\n",
    "    # Open the PDF file\n",
    "    doc = fitz.open(pdf_path)\n",
    "\n",
    "    # Iterate through each page of the PDF\n",
    "    if pages is None:\n",
    "        pages = range(doc.page_count)\n",
    "\n",
    "    for page_num in pages:\n",
    "        # Load the page\n",
    "        page = doc.load_page(page_num)\n",
    "\n",
    "        # Render the page as a PNG image\n",
    "        pix = page.get_pixmap(matrix=fitz.Matrix(300/72, 300/72))\n",
    "\n",
    "        # Save the PNG image\n",
    "        output_path = f\"../images/reading_charts_graphs/slides/page_{page_num+1}.png\"\n",
    "        pix.save(output_path)\n",
    "\n",
    "    # Convert the PNG images to base64 encoded strings\n",
    "    images = [Image.open(f\"../images/reading_charts_graphs/slides/page_{page_num+1}.png\") for page_num in range(doc.page_count)]\n",
    "    # Close the PDF document\n",
    "    doc.close()\n",
    "\n",
    "    base64_encoded_pngs = []\n",
    "\n",
    "    for image in images:\n",
    "        # Resize the image if it exceeds the maximum size\n",
    "        if image.size[0] > max_size[0] or image.size[1] > max_size[1]:\n",
    "            image.thumbnail(max_size, Image.Resampling.LANCZOS)\n",
    "            \n",
    "        image_data = io.BytesIO()\n",
    "        image.save(image_data, format='PNG', optimize=True, quality=quality)\n",
    "        image_data.seek(0)\n",
    "        base64_encoded = base64.b64encode(image_data.getvalue()).decode('utf-8')\n",
    "        base64_encoded_pngs.append(base64_encoded)\n",
    "\n",
    "    return base64_encoded_pngs"
   ]
  },
  {
   "cell_type": "code",
   "execution_count": null,
   "metadata": {},
   "outputs": [],
   "source": [
    "litellm.set_verbose=True"
   ]
  },
  {
   "cell_type": "code",
   "execution_count": null,
   "metadata": {},
   "outputs": [],
   "source": [
    "response = completion(\n",
    "    model=\"claude-3-5-sonnet-20240620\",\n",
    "    messages=[\n",
    "        {\n",
    "            \"role\": \"system\", \n",
    "            \"content\": f\"convert the markdown dataframe into the provided schema, empty cells or NA cells should be Nulls: {json_schema}\"\n",
    "        },\n",
    "        {\n",
    "            \"role\": \"user\", \n",
    "            \"content\": [image]\n",
    "        },\n",
    "        {\n",
    "            \"role\": \"assistant\",\n",
    "            \"content\": \"Here is the JSON requested:\\n{\",\n",
    "            \"prefix\": True\n",
    "        }\n",
    "    ],\n",
    "    temperature=0,\n",
    "    max_tokens=1024\n",
    ")"
   ]
  },
  {
   "cell_type": "code",
   "execution_count": null,
   "metadata": {},
   "outputs": [],
   "source": [
    "response_content = \"{\" + response.choices[0].message.content"
   ]
  },
  {
   "cell_type": "code",
   "execution_count": null,
   "metadata": {},
   "outputs": [],
   "source": [
    "completion_cost(response)"
   ]
  },
  {
   "cell_type": "code",
   "execution_count": null,
   "metadata": {},
   "outputs": [],
   "source": [
    "df2 = pd.DataFrame(json.loads(response_content)['data'])"
   ]
  },
  {
   "cell_type": "code",
   "execution_count": null,
   "metadata": {},
   "outputs": [],
   "source": [
    "df2"
   ]
  },
  {
   "cell_type": "code",
   "execution_count": null,
   "metadata": {},
   "outputs": [],
   "source": [
    "df"
   ]
  }
 ],
 "metadata": {
  "kernelspec": {
   "display_name": "llm-env",
   "language": "python",
   "name": "python3"
  },
  "language_info": {
   "codemirror_mode": {
    "name": "ipython",
    "version": 3
   },
   "file_extension": ".py",
   "mimetype": "text/x-python",
   "name": "python",
   "nbconvert_exporter": "python",
   "pygments_lexer": "ipython3",
   "version": "3.10.14"
  }
 },
 "nbformat": 4,
 "nbformat_minor": 2
}
