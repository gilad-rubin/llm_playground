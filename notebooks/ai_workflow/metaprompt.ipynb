{
 "cells": [
  {
   "cell_type": "code",
   "execution_count": 1,
   "metadata": {},
   "outputs": [],
   "source": [
    "import inspect\n",
    "from textwrap import dedent\n",
    "from typing import List, Callable, Tuple, Any\n",
    "import re\n",
    "\n",
    "def extract_placeholders(text: str) -> List[str]:\n",
    "    return re.findall(r'\\{(\\w+)\\}', text)\n",
    "\n",
    "class Prompt:\n",
    "    def __init__(self, func: Callable):\n",
    "        self.func = func\n",
    "        self.signature = inspect.signature(func)\n",
    "\n",
    "    def __call__(self, **inputs) -> Tuple[str, List[str]]:\n",
    "        # Get the source code of the function\n",
    "        source = inspect.getsource(self.func)\n",
    "        \n",
    "        # Extract the function body\n",
    "        function_body = self.extract_function_body(source)\n",
    "        \n",
    "        # Create a new namespace and add input parameters\n",
    "        namespace = inputs.copy()\n",
    "        \n",
    "        # Execute the function body in this namespace\n",
    "        exec(function_body, namespace)\n",
    "        \n",
    "        # Filter out function parameters and built-in variables\n",
    "        filtered_locals = {k: v for k, v in namespace.items() \n",
    "                           if k not in inputs and not k.startswith('__')}\n",
    "        \n",
    "        placeholders = []\n",
    "        template_parts = []\n",
    "        for text in filtered_locals.values():\n",
    "            if isinstance(text, str):\n",
    "                placeholders.extend(extract_placeholders(text))\n",
    "                template_parts.append(dedent(text))\n",
    "        \n",
    "        template = \"\\n\".join(template_parts)\n",
    "        return template, list(set(placeholders))\n",
    "\n",
    "    @staticmethod\n",
    "    def extract_function_body(source: str) -> str:\n",
    "        lines = source.split('\\n')\n",
    "        # Find the line where the function body starts\n",
    "        body_start = next(i for i, line in enumerate(lines) if line.strip().endswith(':'))\n",
    "        # Extract the function body, including nested functions if any\n",
    "        body_lines = lines[body_start + 1:]\n",
    "        min_indent = min(len(line) - len(line.lstrip()) for line in body_lines if line.strip())\n",
    "        return '\\n'.join(line[min_indent:] for line in body_lines)\n",
    "\n",
    "# Decorator to automatically wrap the function\n",
    "def metaprompt(func):\n",
    "    return Prompt(func)"
   ]
  },
  {
   "cell_type": "code",
   "execution_count": 2,
   "metadata": {},
   "outputs": [],
   "source": [
    "@metaprompt\n",
    "def prompt(output_format: str, image_paths: List[str], context: str):\n",
    "    system_prompt = \"You are an ESG data analyst with expertise in extracting and analyzing environmental, social, and governance (ESG) metrics.\"\n",
    "    \n",
    "    match output_format:\n",
    "        case \"json\":\n",
    "            output_instructions = \"Output a table according to a json schema: {json_schema}\"\n",
    "        case \"markdown\":\n",
    "            output_instructions = \"Output a table in markdown with the following columns: {columns}\"\n",
    "\n",
    "    rules = \"\"\"\n",
    "    - Ensure the 'Year' is in the format YYYY.\n",
    "    - Provide total amounts for each metric per 'Year' without a detailed breakdown.\n",
    "    - Convert units using simple multiplication factors:\n",
    "        - Multiply by 1000 for \"Thousands\".\n",
    "        - Multiply by 1000000 for \"Millions\".\n",
    "    - Use restated values if corrected post external audit.\n",
    "    - Focus on extracting information for the main company in the ESG report.\n",
    "    - Extract only explicitly mentioned information; do not make assumptions.\n",
    "    - Indicate \"N/A\" for any missing information.\n",
    "    - Ensure all years explicitly mentioned in the tables or figures are included.\\n\"\"\"\n",
    "    rules += \"- remove ',' in numbers\" if output_format == \"json\" else \"\"\n",
    "\n",
    "    verification = \"\"\"\n",
    "    ## Verify Accuracy\n",
    "    - Check that the data aligns with the provided 'Data Type', 'Unit of Measure', and 'Description' for each metric:\n",
    "    {metrics_information}\"\"\"\n",
    "\n",
    "    image_instructions = \"Analyze images to ensure accuracy and match exact colors as per the legend and graph.\" if len(image_paths) > 0 else \"\"\n",
    "\n",
    "    context_preview = \"Here is the extracted information from the report: {context}\" if len(context) > 0 else \"\""
   ]
  },
  {
   "cell_type": "code",
   "execution_count": 3,
   "metadata": {},
   "outputs": [],
   "source": [
    "template, vars = prompt(output_format=\"json\", image_paths=[], context=\"Sample context\")"
   ]
  },
  {
   "cell_type": "code",
   "execution_count": 4,
   "metadata": {},
   "outputs": [
    {
     "data": {
      "text/plain": [
       "'You are an ESG data analyst with expertise in extracting and analyzing environmental, social, and governance (ESG) metrics.\\nOutput a table according to a json schema: {json_schema}\\n\\n- Ensure the \\'Year\\' is in the format YYYY.\\n- Provide total amounts for each metric per \\'Year\\' without a detailed breakdown.\\n- Convert units using simple multiplication factors:\\n    - Multiply by 1000 for \"Thousands\".\\n    - Multiply by 1000000 for \"Millions\".\\n- Use restated values if corrected post external audit.\\n- Focus on extracting information for the main company in the ESG report.\\n- Extract only explicitly mentioned information; do not make assumptions.\\n- Indicate \"N/A\" for any missing information.\\n- Ensure all years explicitly mentioned in the tables or figures are included.\\n- remove \\',\\' in numbers\\n\\n## Verify Accuracy\\n- Check that the data aligns with the provided \\'Data Type\\', \\'Unit of Measure\\', and \\'Description\\' for each metric:\\n{metrics_information}\\n\\nHere is the extracted information from the report: {context}'"
      ]
     },
     "execution_count": 4,
     "metadata": {},
     "output_type": "execute_result"
    }
   ],
   "source": [
    "template"
   ]
  },
  {
   "cell_type": "code",
   "execution_count": 5,
   "metadata": {},
   "outputs": [
    {
     "data": {
      "text/plain": [
       "['context', 'metrics_information', 'json_schema']"
      ]
     },
     "execution_count": 5,
     "metadata": {},
     "output_type": "execute_result"
    }
   ],
   "source": [
    "vars"
   ]
  }
 ],
 "metadata": {
  "kernelspec": {
   "display_name": "llm-env",
   "language": "python",
   "name": "python3"
  },
  "language_info": {
   "codemirror_mode": {
    "name": "ipython",
    "version": 3
   },
   "file_extension": ".py",
   "mimetype": "text/x-python",
   "name": "python",
   "nbconvert_exporter": "python",
   "pygments_lexer": "ipython3",
   "version": "3.10.14"
  }
 },
 "nbformat": 4,
 "nbformat_minor": 2
}
