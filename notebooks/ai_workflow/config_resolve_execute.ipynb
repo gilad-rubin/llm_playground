{
 "cells": [
  {
   "cell_type": "markdown",
   "metadata": {},
   "source": [
    "# Config"
   ]
  },
  {
   "cell_type": "code",
   "execution_count": 12,
   "metadata": {},
   "outputs": [],
   "source": [
    "# make a DAG with all the potential data. \n",
    "# execute the DAG with the vars from the template"
   ]
  },
  {
   "cell_type": "code",
   "execution_count": 13,
   "metadata": {},
   "outputs": [],
   "source": [
    "# handle image bytes\n",
    "# handle response_format (+json_schema)\n",
    "# handle completion args\n",
    "# handle parsing of result (prefix + optional conversion to dataframe)"
   ]
  },
  {
   "cell_type": "code",
   "execution_count": null,
   "metadata": {},
   "outputs": [],
   "source": [
    "class ResponseFormatter:\n",
    "    def __init__(self, response_format: dict):\n",
    "        # response_format\n",
    "        # messages\n",
    "        # post-process textual output\n",
    "\n",
    "class LlmHandler:\n",
    "    def __init__(self, model: str, response_formatter: ResponseFormatter = None):"
   ]
  },
  {
   "cell_type": "markdown",
   "metadata": {},
   "source": [
    "Here's a dilemma: one of the HPs is whether or not to get a tabular output from the first shot.\n",
    "if so - we already have a dataframe with an answer\n",
    "if not - we need some more nodes.\n",
    "This means that we'll have to use config.when(...) perhaps a lot\n",
    "\n",
    "Ideally - I'd have one flow with and one without, but then there's a lot in common between them and I don't want to repeat myself\n",
    "This also means that I need to somehow wrap the option of raw + tabular into one against only tabular and select between them (which might mean one vs two modules/dags). This actually sounds ok. but how do I avoid code duplication? "
   ]
  },
  {
   "cell_type": "code",
   "execution_count": null,
   "metadata": {},
   "outputs": [],
   "source": [
    "# maybe i can design a \"fork\" design pattern. where we share the mutual configs, feature store, schema etc...\n",
    "# and then each fork can have (only) its own unique definitions etc...\n",
    "# ideally I'd see it as a cell in my notebook that is shared between both notebooks"
   ]
  }
 ],
 "metadata": {
  "kernelspec": {
   "display_name": "llm-env",
   "language": "python",
   "name": "python3"
  },
  "language_info": {
   "codemirror_mode": {
    "name": "ipython",
    "version": 3
   },
   "file_extension": ".py",
   "mimetype": "text/x-python",
   "name": "python",
   "nbconvert_exporter": "python",
   "pygments_lexer": "ipython3",
   "version": "3.10.14"
  }
 },
 "nbformat": 4,
 "nbformat_minor": 2
}
